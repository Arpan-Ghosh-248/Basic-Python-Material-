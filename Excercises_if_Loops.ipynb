{
  "nbformat": 4,
  "nbformat_minor": 0,
  "metadata": {
    "colab": {
      "name": "Excercises : if Loops.ipynb",
      "provenance": []
    },
    "kernelspec": {
      "name": "python3",
      "display_name": "Python 3"
    }
  },
  "cells": [
    {
      "cell_type": "markdown",
      "metadata": {
        "id": "5jxZ9LZhxa4l"
      },
      "source": [
        "![logo](https://techis.io/wp-content/uploads/2020/07/Tech-is-full-main-logo.png)"
      ]
    },
    {
      "cell_type": "markdown",
      "metadata": {
        "id": "cnRM5_46xjo8"
      },
      "source": [
        "# Python Practice Questions \n",
        "\n",
        "Find below some practice questions on few core Python concepts !"
      ]
    },
    {
      "cell_type": "markdown",
      "metadata": {
        "id": "h1eFxleJZuPI"
      },
      "source": [
        "#Practicing **if ... elif...else**"
      ]
    },
    {
      "cell_type": "markdown",
      "metadata": {
        "id": "m8qFuZ3gZ3PH"
      },
      "source": [
        "## Using **if**\n",
        "\n",
        "- Input your score, \n",
        "\n",
        "  - if the score is 100, display **\"You got perfect Score!!\"**\n",
        "\n",
        "  - if the score is more than 50, diplay **\"you passed\"**\n",
        "\n",
        "  - if the score is less than 50, display **\"you failed\"**"
      ]
    },
    {
      "cell_type": "markdown",
      "metadata": {
        "id": "ZKf3CIP90p_I"
      },
      "source": [
        "# Practicing **While** loop"
      ]
    },
    {
      "cell_type": "markdown",
      "metadata": {
        "id": "RlflmJdWzWzS"
      },
      "source": [
        "## Display number from 1 to 10 using  while loop\n",
        "\n",
        "- Using while loop with else\n"
      ]
    },
    {
      "cell_type": "markdown",
      "metadata": {
        "id": "OjbBPAdJ3zqc"
      },
      "source": [
        "# Practicing **for** loop and **Dictionaries**"
      ]
    },
    {
      "cell_type": "markdown",
      "metadata": {
        "id": "dDYZhmdDEHYD"
      },
      "source": [
        "## Print the following pattern\n",
        "\n",
        "\n",
        "1\n",
        "12\n",
        "123\n",
        "1234\n",
        "12345"
      ]
    },
    {
      "cell_type": "markdown",
      "metadata": {
        "id": "Tql0DJ4y39GY"
      },
      "source": [
        "\n",
        "Create a dictionary with **Names** and **Scores** of a few students \n",
        "\n",
        "Create an Output which should be\n",
        "\n",
        "- Student Name : Mike, Score : 60\n",
        "\n",
        "- Student Name : Jenny, Score : 90\n",
        "\n",
        "- Student Name : Abraham, Score : 88\n",
        "\n",
        "- Student Name : Nick, Score : 77\n",
        "\n",
        "\n",
        "\n"
      ]
    }
  ]
}