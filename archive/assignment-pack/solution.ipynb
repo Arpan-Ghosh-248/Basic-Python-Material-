{
 "metadata": {
  "language_info": {
   "codemirror_mode": {
    "name": "ipython",
    "version": 3
   },
   "file_extension": ".py",
   "mimetype": "text/x-python",
   "name": "python",
   "nbconvert_exporter": "python",
   "pygments_lexer": "ipython3",
   "version": "3.8.5-final"
  },
  "orig_nbformat": 2,
  "kernelspec": {
   "name": "Python 3.8.5 64-bit",
   "display_name": "Python 3.8.5 64-bit",
   "metadata": {
    "interpreter": {
     "hash": "082e9a3bcad0a290d0001e938aa60b99250c6c2ef33a923c00b70f9826caf4b7"
    }
   }
  }
 },
 "nbformat": 4,
 "nbformat_minor": 2,
 "cells": [
  {
   "source": [
    "# Python-10 Assignment Solution"
   ],
   "cell_type": "markdown",
   "metadata": {}
  },
  {
   "source": [
    "### Part 0"
   ],
   "cell_type": "markdown",
   "metadata": {}
  },
  {
   "cell_type": "code",
   "execution_count": 3,
   "metadata": {},
   "outputs": [
    {
     "output_type": "stream",
     "name": "stdout",
     "text": [
      "x^y = 81\nlog_2(x) =  1.5849625007211563\n"
     ]
    }
   ],
   "source": [
    "x = input('Enter number x: ')\n",
    "y = input('Enter number y: ')\n",
    "\n",
    "\n",
    "print(\"x^y =\",int(x)**int(y))\n",
    "\n",
    "import math \n",
    "\n",
    "print(\"log_2(x) = \",math.log(int(x),2))"
   ]
  },
  {
   "source": [
    "### Part 1 "
   ],
   "cell_type": "markdown",
   "metadata": {}
  },
  {
   "cell_type": "code",
   "execution_count": 4,
   "metadata": {},
   "outputs": [
    {
     "output_type": "stream",
     "name": "stdout",
     "text": [
      "Number of Months: 183\n"
     ]
    }
   ],
   "source": [
    "# annual salary\n",
    "annual_salary = float(input(\"Enter annual salary: \"))\n",
    "monthly_salary = annual_salary/12.0\n",
    "\n",
    "# cost of dream home\n",
    "total_cost = float(input(\"Enter total cost of home: \"))\n",
    "\n",
    "# portion of the cost needed for down payment\n",
    "portion_down_payment = 0.25*total_cost\n",
    "\n",
    "# portion saved per month \n",
    "portion_saved = float(input(\"Enter percent of salary saved per month: \"))\n",
    "portion_saved = portion_saved/100\n",
    "\n",
    "# -------------------------------------------------------------------\n",
    "# init current savings \n",
    "current_savings = 0.0\n",
    "number_of_months = 0 \n",
    "\n",
    "# annual return rate r = 4%\n",
    "r = 0.04\n",
    "\n",
    "# make while loop to iteratively calculate savings \n",
    "while current_savings < portion_down_payment:\n",
    "\n",
    "    # savings at the end of the month\n",
    "    current_savings += (current_savings*r/12) + (monthly_salary*portion_saved)\n",
    "    \n",
    "    # increment \n",
    "    # number_of_months += 1\n",
    "\n",
    "    # print(number_of_months, current_savings)\n",
    "\n",
    "# output the final number of months\n",
    "print('Number of Months:', number_of_months)"
   ]
  },
  {
   "source": [
    "### Part 2"
   ],
   "cell_type": "markdown",
   "metadata": {}
  },
  {
   "cell_type": "code",
   "execution_count": 5,
   "metadata": {},
   "outputs": [
    {
     "output_type": "stream",
     "name": "stdout",
     "text": [
      "Number of Months: 261\n"
     ]
    }
   ],
   "source": [
    "# annual salary\n",
    "annual_salary = float(input(\"Enter annual salary: \"))\n",
    "monthly_salary = annual_salary/12.0\n",
    "\n",
    "# portion saved per month \n",
    "portion_saved = float(input(\"Enter percent of salary saved per month: \"))\n",
    "\n",
    "# convert to decimal \n",
    "portion_saved /= 100\n",
    "\n",
    "# cost of dream home\n",
    "total_cost = float(input(\"Enter total cost of home: \"))\n",
    "\n",
    "# portion of the cost needed for down payment\n",
    "portion_down_payment = 0.25*total_cost\n",
    "\n",
    "# semi annual raise (percentage)\n",
    "semi_annual_raise = float(input(\"Enter percentage of semi-annual raise: \"))\n",
    "# convert to percent\n",
    "semi_annual_raise /= 100\n",
    "\n",
    "\n",
    "# -------------------------------------------------------------------\n",
    "# init current savings \n",
    "current_savings = 0.0\n",
    "number_of_months = 0 \n",
    "\n",
    "# annual return rate r = 4%\n",
    "r = 0.04\n",
    "\n",
    "# -------------------------------------------------------------------\n",
    "# make while loop to iteratively calculate savings \n",
    "while current_savings < portion_down_payment:\n",
    "\n",
    "    # savings at the end of the month\n",
    "    current_savings += (current_savings*r/12.0) + (monthly_salary*portion_saved)\n",
    "    \n",
    "    # increment months\n",
    "    # number_of_months += 1\n",
    "\n",
    "    # pay raise at end of every 6 months \n",
    "    if (number_of_months % 6) == 0 :\n",
    "        annual_salary *= (1+semi_annual_raise)\n",
    "        monthly_salary = annual_salary/12.0\n",
    "\n",
    "    # print(number_of_months, current_savings)\n",
    "\n",
    "# -------------------------------------------------------------------\n",
    "# output the final number of months\n",
    "print('Number of Months:', number_of_months)"
   ]
  }
 ]
}
